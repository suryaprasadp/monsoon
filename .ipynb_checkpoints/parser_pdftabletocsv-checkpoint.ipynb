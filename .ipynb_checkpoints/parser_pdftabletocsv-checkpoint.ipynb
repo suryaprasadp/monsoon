{
 "cells": [
  {
   "cell_type": "code",
   "execution_count": 68,
   "metadata": {},
   "outputs": [],
   "source": [
    "#tabula-py can be used to parse pdf to data frame,csv and other formats. it can be installed using pip install tabula-py.\n",
    "from tabula import convert_into\n",
    "\n",
    "\n",
    "#importing pandas for dataframes \n",
    "import pandas as pd\n",
    "\n",
    "#FUNCTION DEF: CONVERTS TABLE IN PDF TO CSV FILE FORMAT\n",
    "#INPUT: PATH TO PDF FILE\n",
    "#TASK: GENERATED CSV FILE\n",
    "#OUTPUT: NULL\n",
    "\n",
    "def pdftabletocsv(path):\n",
    "    \n",
    "    #writing the table from pdf into csv file\n",
    "    convert_into(path,\"output.csv\",output_format='csv')\n",
    "    \n",
    "    \n",
    "    #THE READ DATA IS NOT FORMATTED PROPERLY,HAVE TO CLEAN IT UP\n",
    "    \n",
    "    \n",
    "    #read the csv file into pandas dataframe\n",
    "    df = pd.read_csv('output.csv')\n",
    "    \n",
    "    \n",
    "    # Remove the clubbing of 2016 column with Particulars By using decimal point as refernce to seperate number and strings\n",
    "    \n",
    "    \n",
    "    for i in range(0,df.shape[0]): # looping through the rows of that column\n",
    "        \n",
    "        \n",
    "        if(df.isnull().iloc[i,2]):  #if nan no need to do anything\n",
    "            continue\n",
    "        else:        \n",
    "            data=format(df.iloc[i,2]).split('.')       #split by decimal point into 2 strings\n",
    "            df.iloc[i,2]=data[0]+ '.'+ data[1][0:2]    # concat 2 decimal points to the number in first part  \n",
    "            df.iloc[i,3]=data[1][2:]                   \n",
    "            \n",
    "            \n",
    "    #mangle_dup_cols not supported yett, have to manually replace 2015. to 2015\n",
    "    #unnamed columns are replaced by empty space\n",
    "\n",
    "    df.columns = df.columns.str.replace('Unnamed.*', '')\n",
    "    df.rename(columns={'2015.1': '2015','2016 Particulars' :'2016'}, inplace=True)\n",
    "    df.columns.values[3]=\"Particulars\"\n",
    "    \n",
    "    \n",
    "    \n",
    "    #the previous content in csv file has to be deleted\n",
    "    f = open(\"output.csv\", \"w\")\n",
    "    f.truncate()\n",
    "    f.close()\n",
    "    \n",
    "    #writing to csv file\n",
    "    df.to_csv('output.csv',index=False)\n",
    "    \n",
    "    return\n",
    "\n",
    "#pdftabletocsv('/home/surya/BalSheet.pdf')\n",
    "\n",
    "    \n",
    "\n",
    "\n",
    "\n"
   ]
  },
  {
   "cell_type": "code",
   "execution_count": 3,
   "metadata": {},
   "outputs": [
    {
     "ename": "SyntaxError",
     "evalue": "invalid syntax (<ipython-input-3-44b79f75e088>, line 20)",
     "output_type": "error",
     "traceback": [
      "\u001b[0;36m  File \u001b[0;32m\"<ipython-input-3-44b79f75e088>\"\u001b[0;36m, line \u001b[0;32m20\u001b[0m\n\u001b[0;31m    else(row[i]!=''):\u001b[0m\n\u001b[0m        ^\u001b[0m\n\u001b[0;31mSyntaxError\u001b[0m\u001b[0;31m:\u001b[0m invalid syntax\n"
     ]
    }
   ],
   "source": [
    "import csv\n",
    "\n",
    "\n",
    "def store_csv():\n",
    "    \n",
    "    years=[]\n",
    "    years_index=[]\n",
    "    variables=[]\n",
    "    variables_index=[]\n",
    "    \n",
    "    with open('/home/surya/monsoon/output.csv','rb') as csvfile:\n",
    "        reader = csv.reader(csvfile, delimiter=',') \n",
    "        index=0\n",
    "        for row in reader: \n",
    "            if(index==0):\n",
    "                for i in range(0,len(row)):\n",
    "                    if(row[i].isdigit()):\n",
    "                        years.append(row[i])\n",
    "                        years_index.append(i)\n",
    "                    else (row[i]!=''):\n",
    "                        variables.append(row[i])\n",
    "                        variables_index.append(i)\n",
    "                        \n",
    "                index=1\n",
    "                \n",
    "            \n",
    "                        \n",
    "                        \n",
    "        print(years,years_index)\n",
    "        print(variables,variables_index)\n",
    "        return\n",
    "    \n",
    "        \n",
    "       \n",
    "        \n",
    "        \n",
    "store_csv()"
   ]
  },
  {
   "cell_type": "markdown",
   "metadata": {},
   "source": [
    "\n"
   ]
  },
  {
   "cell_type": "code",
   "execution_count": null,
   "metadata": {},
   "outputs": [],
   "source": [
    "\n",
    "\n"
   ]
  }
 ],
 "metadata": {
  "kernelspec": {
   "display_name": "Python 2",
   "language": "python",
   "name": "python2"
  },
  "language_info": {
   "codemirror_mode": {
    "name": "ipython",
    "version": 2
   },
   "file_extension": ".py",
   "mimetype": "text/x-python",
   "name": "python",
   "nbconvert_exporter": "python",
   "pygments_lexer": "ipython2",
   "version": "2.7.12"
  }
 },
 "nbformat": 4,
 "nbformat_minor": 2
}
